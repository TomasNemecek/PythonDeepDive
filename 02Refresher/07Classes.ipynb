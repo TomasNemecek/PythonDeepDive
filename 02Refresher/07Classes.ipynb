{
 "cells": [
  {
   "cell_type": "markdown",
   "metadata": {
    "collapsed": true,
    "pycharm": {
     "name": "#%% md\n"
    }
   },
   "source": [
    "## Classes\n"
   ]
  },
  {
   "cell_type": "code",
   "source": [
    "class Rectangle:\n",
    "    def __init__(self, width, height):\n",
    "        self.width = width\n",
    "        self.height = height\n",
    "    \n",
    "    def area(self):\n",
    "        return self.width * self.height\n",
    "    \n",
    "    def perimeter(self):\n",
    "        return 2 * (self.width + self.height)\n",
    "    \n",
    "    def to_string(self):\n",
    "        return 'Rectangle: width={0}, height={1}'.format(self.width, self.height)\n",
    "    \n",
    "    def __str__(self):\n",
    "        return 'Rectangle: width={0}, height={1}'.format(self.width, self.height)\n",
    "    \n",
    "    #string showing how the object was built\n",
    "    def __repr__(self):\n",
    "        return 'Rectangle({0}, {1})'.format(self.width, self.height)\n",
    "    \n",
    "    def __eq__(self, other):\n",
    "        if isinstance(other, Rectangle):\n",
    "            return self.width == other.width and self.height == other.height\n",
    "        else:\n",
    "            return False\n",
    "    \n",
    "    #Less then\n",
    "    def __lt__(self, other):\n",
    "        if isinstance(other, Rectangle):\n",
    "            return self.area() < other.area()\n",
    "        else:\n",
    "            return NotImplemented"
   ],
   "metadata": {
    "collapsed": false,
    "pycharm": {
     "name": "#%% \n",
     "is_executing": false
    }
   },
   "execution_count": 50,
   "outputs": []
  },
  {
   "cell_type": "code",
   "source": [
    "r1 = Rectangle(10, 20)\n",
    "print('width: {0}'.format(r1.width))\n",
    "print('width: {0}'.format(r1.height))\n",
    "\n",
    "print('area: {0}'.format(r1.area()))\n",
    "print('perimeter: {0}'.format(r1.perimeter()))\n"
   ],
   "metadata": {
    "collapsed": false,
    "pycharm": {
     "name": "#%%\n",
     "is_executing": false
    }
   },
   "execution_count": 51,
   "outputs": [
    {
     "name": "stdout",
     "text": [
      "width: 10\nwidth: 20\narea: 200\nperimeter: 60\n"
     ],
     "output_type": "stream"
    }
   ]
  },
  {
   "cell_type": "code",
   "source": [
    "# to str\n",
    "str(r1)\n"
   ],
   "metadata": {
    "collapsed": false,
    "pycharm": {
     "name": "#%% \n",
     "is_executing": false
    }
   },
   "execution_count": 31,
   "outputs": [
    {
     "data": {
      "text/plain": "'Rectangle: width=10, height=20'"
     },
     "metadata": {},
     "output_type": "execute_result",
     "execution_count": 31
    }
   ]
  },
  {
   "cell_type": "code",
   "execution_count": 32,
   "outputs": [
    {
     "data": {
      "text/plain": "'0x187798f1668'"
     },
     "metadata": {},
     "output_type": "execute_result",
     "execution_count": 32
    }
   ],
   "source": [
    "hex(id(r1))"
   ],
   "metadata": {
    "collapsed": false,
    "pycharm": {
     "name": "#%%\n",
     "is_executing": false
    }
   }
  },
  {
   "cell_type": "code",
   "execution_count": 33,
   "outputs": [
    {
     "data": {
      "text/plain": "'Rectangle: width=10, height=20'"
     },
     "metadata": {},
     "output_type": "execute_result",
     "execution_count": 33
    }
   ],
   "source": [
    "r1.to_string()\n"
   ],
   "metadata": {
    "collapsed": false,
    "pycharm": {
     "name": "#%%\n",
     "is_executing": false
    }
   }
  },
  {
   "cell_type": "code",
   "execution_count": 43,
   "outputs": [
    {
     "data": {
      "text/plain": "Rectangle(10, 20)"
     },
     "metadata": {},
     "output_type": "execute_result",
     "execution_count": 43
    }
   ],
   "source": [
    "#Repr method\n",
    "r1\n"
   ],
   "metadata": {
    "collapsed": false,
    "pycharm": {
     "name": "#%% \n",
     "is_executing": false
    }
   }
  },
  {
   "cell_type": "code",
   "execution_count": 48,
   "outputs": [
    {
     "data": {
      "text/plain": "True"
     },
     "metadata": {},
     "output_type": "execute_result",
     "execution_count": 48
    }
   ],
   "source": [
    "r2 = Rectangle(10, 20)\n",
    "r1 == r2\n"
   ],
   "metadata": {
    "collapsed": false,
    "pycharm": {
     "name": "#%% \n",
     "is_executing": false
    }
   }
  },
  {
   "cell_type": "code",
   "execution_count": 49,
   "outputs": [
    {
     "data": {
      "text/plain": "False"
     },
     "metadata": {},
     "output_type": "execute_result",
     "execution_count": 49
    }
   ],
   "source": [
    "r1 == 200\n"
   ],
   "metadata": {
    "collapsed": false,
    "pycharm": {
     "name": "#%% \n",
     "is_executing": false
    }
   }
  },
  {
   "cell_type": "code",
   "execution_count": 53,
   "outputs": [
    {
     "data": {
      "text/plain": "False"
     },
     "metadata": {},
     "output_type": "execute_result",
     "execution_count": 53
    }
   ],
   "source": [
    "r3 = Rectangle(10, 10)\n",
    "r1 < r3\n"
   ],
   "metadata": {
    "collapsed": false,
    "pycharm": {
     "name": "#%% \n",
     "is_executing": false
    }
   }
  },
  {
   "cell_type": "code",
   "execution_count": 54,
   "outputs": [
    {
     "traceback": [
      "\u001b[1;31m---------------------------------------------------------------------------\u001b[0m",
      "\u001b[1;31mTypeError\u001b[0m                                 Traceback (most recent call last)",
      "\u001b[1;32m<ipython-input-54-b8f1db31177d>\u001b[0m in \u001b[0;36m<module>\u001b[1;34m()\u001b[0m\n\u001b[1;32m----> 1\u001b[1;33m \u001b[0mr1\u001b[0m \u001b[1;33m<\u001b[0m \u001b[1;36m100\u001b[0m\u001b[1;33m\u001b[0m\u001b[0m\n\u001b[0m",
      "\u001b[1;31mTypeError\u001b[0m: '<' not supported between instances of 'Rectangle' and 'int'"
     ],
     "ename": "TypeError",
     "evalue": "'<' not supported between instances of 'Rectangle' and 'int'",
     "output_type": "error"
    }
   ],
   "source": [
    "r1 < 100\n"
   ],
   "metadata": {
    "collapsed": false,
    "pycharm": {
     "name": "#%% \n",
     "is_executing": false
    }
   }
  },
  {
   "cell_type": "markdown",
   "source": [
    "## Getters and Setters\n"
   ],
   "metadata": {
    "collapsed": false,
    "pycharm": {
     "name": "#%% md\n"
    }
   }
  },
  {
   "cell_type": "code",
   "execution_count": 67,
   "outputs": [],
   "source": [
    "class Rectangle:\n",
    "    def __init__(self, width, height):\n",
    "        #Underscore before field is private\n",
    "        self._width = width\n",
    "        self._height = height\n",
    "    \n",
    "    def area(self):\n",
    "        return self._width * self._width\n",
    "    \n",
    "    def perimeter(self):\n",
    "        return 2 * (self._width + self._width)\n",
    "    \n",
    "    def to_string(self):\n",
    "        return 'Rectangle: width={0}, height={1}'.format(self._width, self._width)\n",
    "    \n",
    "    def get_width(self):\n",
    "        return self._width\n",
    "    \n",
    "    def set_width(self, width):\n",
    "        if width <= 0:\n",
    "            raise ValueError('Width must be positive')\n",
    "        else:\n",
    "            self._width = width\n",
    "            \n",
    "    def get_height(self):\n",
    "        return self._height\n",
    "    \n",
    "    def set_height(self, height):\n",
    "        if height <= 0:\n",
    "            raise ValueError('Width must be positive')\n",
    "        else:\n",
    "            self._height = height\n",
    "    \n",
    "    def __str__(self):\n",
    "        return 'Rectangle: width={0}, height={1}'.format(self._width, self._width)\n",
    "    \n",
    "    #string showing how the object was built\n",
    "    def __repr__(self):\n",
    "        return 'Rectangle({0}, {1})'.format(self._width, self._width)\n",
    "    \n",
    "    def __eq__(self, other):\n",
    "        if isinstance(other, Rectangle):\n",
    "            return self._width == other._width and self._height == other._height\n",
    "        else:\n",
    "            return False\n",
    "    \n",
    "    #Less then\n",
    "    def __lt__(self, other):\n",
    "        if isinstance(other, Rectangle):\n",
    "            return self.area() < other.area()\n",
    "        else:\n",
    "            return NotImplemented\n",
    "        "
   ],
   "metadata": {
    "collapsed": false,
    "pycharm": {
     "name": "#%% \n",
     "is_executing": false
    }
   }
  },
  {
   "cell_type": "code",
   "execution_count": 57,
   "outputs": [
    {
     "traceback": [
      "\u001b[1;31m---------------------------------------------------------------------------\u001b[0m",
      "\u001b[1;31mValueError\u001b[0m                                Traceback (most recent call last)",
      "\u001b[1;32m<ipython-input-57-109212aa6908>\u001b[0m in \u001b[0;36m<module>\u001b[1;34m()\u001b[0m\n\u001b[0;32m      1\u001b[0m \u001b[0mr5\u001b[0m \u001b[1;33m=\u001b[0m \u001b[0mRectangle\u001b[0m\u001b[1;33m(\u001b[0m\u001b[1;36m10\u001b[0m\u001b[1;33m,\u001b[0m \u001b[1;36m20\u001b[0m\u001b[1;33m)\u001b[0m\u001b[1;33m\u001b[0m\u001b[0m\n\u001b[1;32m----> 2\u001b[1;33m \u001b[0mr5\u001b[0m\u001b[1;33m.\u001b[0m\u001b[0mset_height\u001b[0m\u001b[1;33m(\u001b[0m\u001b[1;36m0\u001b[0m\u001b[1;33m)\u001b[0m\u001b[1;33m\u001b[0m\u001b[0m\n\u001b[0m",
      "\u001b[1;32m<ipython-input-55-4c03d5b67f71>\u001b[0m in \u001b[0;36mset_height\u001b[1;34m(self, height)\u001b[0m\n\u001b[0;32m     28\u001b[0m     \u001b[1;32mdef\u001b[0m \u001b[0mset_height\u001b[0m\u001b[1;33m(\u001b[0m\u001b[0mself\u001b[0m\u001b[1;33m,\u001b[0m \u001b[0mheight\u001b[0m\u001b[1;33m)\u001b[0m\u001b[1;33m:\u001b[0m\u001b[1;33m\u001b[0m\u001b[0m\n\u001b[0;32m     29\u001b[0m         \u001b[1;32mif\u001b[0m \u001b[0mheight\u001b[0m \u001b[1;33m<=\u001b[0m \u001b[1;36m0\u001b[0m\u001b[1;33m:\u001b[0m\u001b[1;33m\u001b[0m\u001b[0m\n\u001b[1;32m---> 30\u001b[1;33m             \u001b[1;32mraise\u001b[0m \u001b[0mValueError\u001b[0m\u001b[1;33m(\u001b[0m\u001b[1;34m'Width must be positive'\u001b[0m\u001b[1;33m)\u001b[0m\u001b[1;33m\u001b[0m\u001b[0m\n\u001b[0m\u001b[0;32m     31\u001b[0m         \u001b[1;32melse\u001b[0m\u001b[1;33m:\u001b[0m\u001b[1;33m\u001b[0m\u001b[0m\n\u001b[0;32m     32\u001b[0m             \u001b[0mself\u001b[0m\u001b[1;33m.\u001b[0m\u001b[0m_height\u001b[0m \u001b[1;33m=\u001b[0m \u001b[0mheight\u001b[0m\u001b[1;33m\u001b[0m\u001b[0m\n",
      "\u001b[1;31mValueError\u001b[0m: Width must be positive"
     ],
     "ename": "ValueError",
     "evalue": "Width must be positive",
     "output_type": "error"
    }
   ],
   "source": [
    "r5 = Rectangle(10, 20)\n",
    "r5.set_height(0)"
   ],
   "metadata": {
    "collapsed": false,
    "pycharm": {
     "name": "#%% \n",
     "is_executing": false
    }
   }
  },
  {
   "cell_type": "code",
   "execution_count": 68,
   "outputs": [],
   "source": [
    "# Getters and setters with decorators\n",
    "class Rectangle:\n",
    "    def __init__(self, width, height):\n",
    "        #call the stters here - raises exception if required\n",
    "        self.width = width\n",
    "        self.height = height\n",
    "    \n",
    "    @property\n",
    "    def width(self):\n",
    "        return self._width\n",
    "    \n",
    "    @width.setter\n",
    "    def width(self, width):\n",
    "        if width <= 0:\n",
    "            raise ValueError('Width must be positive')\n",
    "        else: \n",
    "            self._width = width\n",
    "    \n",
    "    @property\n",
    "    def height(self):\n",
    "        return self._height\n",
    "    \n",
    "    @height.setter\n",
    "    def height(self, height):\n",
    "        if height <= 0:\n",
    "            raise ValueError('Height must be positive')\n",
    "        else: \n",
    "            self._height = height\n",
    "    \n",
    "    \n",
    "    def __str__(self):\n",
    "        return 'Rectangle: width={0}, height={1}'.format(self.width, self.width)\n",
    "    \n",
    "    #string showing how the object was built\n",
    "    def __repr__(self):\n",
    "        return 'Rectangle({0}, {1})'.format(self.width, self.width)\n",
    "    \n",
    "    def __eq__(self, other):\n",
    "        if isinstance(other, Rectangle):\n",
    "            return self.width == other.width and self.height == other.height\n",
    "        else:\n",
    "            return False"
   ],
   "metadata": {
    "collapsed": false,
    "pycharm": {
     "name": "#%%\n",
     "is_executing": false
    }
   }
  },
  {
   "cell_type": "code",
   "execution_count": 64,
   "outputs": [
    {
     "data": {
      "text/plain": "Rectangle(50, 50)"
     },
     "metadata": {},
     "output_type": "execute_result",
     "execution_count": 64
    }
   ],
   "source": [
    "r8 = Rectangle(10, 10)\n",
    "r8.width = 50\n",
    "r8.height = 100\n",
    "r8\n"
   ],
   "metadata": {
    "collapsed": false,
    "pycharm": {
     "name": "#%%\n",
     "is_executing": false
    }
   }
  },
  {
   "cell_type": "code",
   "execution_count": 69,
   "outputs": [
    {
     "traceback": [
      "\u001b[1;31m---------------------------------------------------------------------------\u001b[0m",
      "\u001b[1;31mValueError\u001b[0m                                Traceback (most recent call last)",
      "\u001b[1;32m<ipython-input-69-2297b6dd5f71>\u001b[0m in \u001b[0;36m<module>\u001b[1;34m()\u001b[0m\n\u001b[1;32m----> 1\u001b[1;33m \u001b[0mr10\u001b[0m \u001b[1;33m=\u001b[0m \u001b[0mRectangle\u001b[0m\u001b[1;33m(\u001b[0m\u001b[1;36m10\u001b[0m\u001b[1;33m,\u001b[0m \u001b[1;33m-\u001b[0m\u001b[1;36m1\u001b[0m\u001b[1;33m)\u001b[0m\u001b[1;33m\u001b[0m\u001b[0m\n\u001b[0m\u001b[0;32m      2\u001b[0m \u001b[0mr10\u001b[0m\u001b[1;33m\u001b[0m\u001b[0m\n",
      "\u001b[1;32m<ipython-input-68-998d59aedac6>\u001b[0m in \u001b[0;36m__init__\u001b[1;34m(self, width, height)\u001b[0m\n\u001b[0;32m      4\u001b[0m         \u001b[1;31m#call the stters here - raises exception if required\u001b[0m\u001b[1;33m\u001b[0m\u001b[1;33m\u001b[0m\u001b[0m\n\u001b[0;32m      5\u001b[0m         \u001b[0mself\u001b[0m\u001b[1;33m.\u001b[0m\u001b[0mwidth\u001b[0m \u001b[1;33m=\u001b[0m \u001b[0mwidth\u001b[0m\u001b[1;33m\u001b[0m\u001b[0m\n\u001b[1;32m----> 6\u001b[1;33m         \u001b[0mself\u001b[0m\u001b[1;33m.\u001b[0m\u001b[0mheight\u001b[0m \u001b[1;33m=\u001b[0m \u001b[0mheight\u001b[0m\u001b[1;33m\u001b[0m\u001b[0m\n\u001b[0m\u001b[0;32m      7\u001b[0m \u001b[1;33m\u001b[0m\u001b[0m\n\u001b[0;32m      8\u001b[0m     \u001b[1;33m@\u001b[0m\u001b[0mproperty\u001b[0m\u001b[1;33m\u001b[0m\u001b[0m\n",
      "\u001b[1;32m<ipython-input-68-998d59aedac6>\u001b[0m in \u001b[0;36mheight\u001b[1;34m(self, height)\u001b[0m\n\u001b[0;32m     24\u001b[0m     \u001b[1;32mdef\u001b[0m \u001b[0mheight\u001b[0m\u001b[1;33m(\u001b[0m\u001b[0mself\u001b[0m\u001b[1;33m,\u001b[0m \u001b[0mheight\u001b[0m\u001b[1;33m)\u001b[0m\u001b[1;33m:\u001b[0m\u001b[1;33m\u001b[0m\u001b[0m\n\u001b[0;32m     25\u001b[0m         \u001b[1;32mif\u001b[0m \u001b[0mheight\u001b[0m \u001b[1;33m<=\u001b[0m \u001b[1;36m0\u001b[0m\u001b[1;33m:\u001b[0m\u001b[1;33m\u001b[0m\u001b[0m\n\u001b[1;32m---> 26\u001b[1;33m             \u001b[1;32mraise\u001b[0m \u001b[0mValueError\u001b[0m\u001b[1;33m(\u001b[0m\u001b[1;34m'Height must be positive'\u001b[0m\u001b[1;33m)\u001b[0m\u001b[1;33m\u001b[0m\u001b[0m\n\u001b[0m\u001b[0;32m     27\u001b[0m         \u001b[1;32melse\u001b[0m\u001b[1;33m:\u001b[0m\u001b[1;33m\u001b[0m\u001b[0m\n\u001b[0;32m     28\u001b[0m             \u001b[0mself\u001b[0m\u001b[1;33m.\u001b[0m\u001b[0m_height\u001b[0m \u001b[1;33m=\u001b[0m \u001b[0mheight\u001b[0m\u001b[1;33m\u001b[0m\u001b[0m\n",
      "\u001b[1;31mValueError\u001b[0m: Height must be positive"
     ],
     "ename": "ValueError",
     "evalue": "Height must be positive",
     "output_type": "error"
    }
   ],
   "source": [
    "r10 = Rectangle(10, -1)\n",
    "r10\n"
   ],
   "metadata": {
    "collapsed": false,
    "pycharm": {
     "name": "#%%\n",
     "is_executing": false
    }
   }
  }
 ],
 "metadata": {
  "language_info": {
   "codemirror_mode": {
    "name": "ipython",
    "version": 2
   },
   "file_extension": ".py",
   "mimetype": "text/x-python",
   "name": "python",
   "nbconvert_exporter": "python",
   "pygments_lexer": "ipython2",
   "version": "2.7.6"
  },
  "kernelspec": {
   "name": "python3",
   "language": "python",
   "display_name": "Python 3"
  },
  "pycharm": {
   "stem_cell": {
    "cell_type": "raw",
    "source": [],
    "metadata": {
     "collapsed": false
    }
   }
  }
 },
 "nbformat": 4,
 "nbformat_minor": 0
}